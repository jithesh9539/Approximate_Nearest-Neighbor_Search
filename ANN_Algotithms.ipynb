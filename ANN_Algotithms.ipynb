{
  "nbformat": 4,
  "nbformat_minor": 0,
  "metadata": {
    "colab": {
      "name": "ANN_Algotithms.ipynb",
      "provenance": [],
      "authorship_tag": "ABX9TyOCyQ078txu8eK9z/uOX/2H",
      "include_colab_link": true
    },
    "kernelspec": {
      "name": "python3",
      "display_name": "Python 3"
    },
    "language_info": {
      "name": "python"
    }
  },
  "cells": [
    {
      "cell_type": "markdown",
      "metadata": {
        "id": "view-in-github",
        "colab_type": "text"
      },
      "source": [
        "<a href=\"https://colab.research.google.com/github/jithesh9539/Approximate_Nearest-Neighbor_Search/blob/main/ANN_Algotithms.ipynb\" target=\"_parent\"><img src=\"https://colab.research.google.com/assets/colab-badge.svg\" alt=\"Open In Colab\"/></a>"
      ]
    },
    {
      "cell_type": "code",
      "metadata": {
        "id": "N71_fElG0mCp",
        "colab": {
          "base_uri": "https://localhost:8080/"
        },
        "outputId": "1dba54b5-e9e2-40e2-a9b7-6769843a2393"
      },
      "source": [
        "!pip install lightfm\n",
        "from lightfm import LightFM\n",
        "from lightfm.datasets import fetch_movielens\n",
        "import pickle\n",
        "from lightfm import LightFM\n",
        "from lightfm.evaluation import precision_at_k\n",
        "from lightfm.evaluation import auc_score\n",
        "import numpy as np"
      ],
      "execution_count": 4,
      "outputs": [
        {
          "output_type": "stream",
          "name": "stdout",
          "text": [
            "Requirement already satisfied: lightfm in /usr/local/lib/python3.7/dist-packages (1.16)\n",
            "Requirement already satisfied: scikit-learn in /usr/local/lib/python3.7/dist-packages (from lightfm) (1.0.1)\n",
            "Requirement already satisfied: requests in /usr/local/lib/python3.7/dist-packages (from lightfm) (2.23.0)\n",
            "Requirement already satisfied: scipy>=0.17.0 in /usr/local/lib/python3.7/dist-packages (from lightfm) (1.4.1)\n",
            "Requirement already satisfied: numpy in /usr/local/lib/python3.7/dist-packages (from lightfm) (1.19.5)\n",
            "Requirement already satisfied: urllib3!=1.25.0,!=1.25.1,<1.26,>=1.21.1 in /usr/local/lib/python3.7/dist-packages (from requests->lightfm) (1.24.3)\n",
            "Requirement already satisfied: certifi>=2017.4.17 in /usr/local/lib/python3.7/dist-packages (from requests->lightfm) (2021.10.8)\n",
            "Requirement already satisfied: chardet<4,>=3.0.2 in /usr/local/lib/python3.7/dist-packages (from requests->lightfm) (3.0.4)\n",
            "Requirement already satisfied: idna<3,>=2.5 in /usr/local/lib/python3.7/dist-packages (from requests->lightfm) (2.10)\n",
            "Requirement already satisfied: joblib>=0.11 in /usr/local/lib/python3.7/dist-packages (from scikit-learn->lightfm) (1.1.0)\n",
            "Requirement already satisfied: threadpoolctl>=2.0.0 in /usr/local/lib/python3.7/dist-packages (from scikit-learn->lightfm) (3.0.0)\n"
          ]
        }
      ]
    },
    {
      "cell_type": "code",
      "metadata": {
        "id": "k8XCR7V64JYb"
      },
      "source": [
        "from lightfm.datasets import fetch_movielens\n",
        "movielens = fetch_movielens()"
      ],
      "execution_count": 5,
      "outputs": []
    },
    {
      "cell_type": "code",
      "metadata": {
        "colab": {
          "base_uri": "https://localhost:8080/"
        },
        "id": "OX134HpV449h",
        "outputId": "5cb5fce8-1fc7-4af7-ebbd-9922f405c6e8"
      },
      "source": [
        "train = movielens['train']\n",
        "test = movielens['test']\n",
        "\n",
        "model = LightFM(learning_rate=0.05, loss='bpr')\n",
        "model.fit(train, epochs=10)\n",
        "\n",
        "train_precision = precision_at_k(model, train, k=10).mean()\n",
        "test_precision = precision_at_k(model, test, k=10).mean()\n",
        "\n",
        "train_auc = auc_score(model, train).mean()\n",
        "test_auc = auc_score(model, test).mean()\n",
        "\n",
        "print('Precision: train %.2f, test %.2f.' % (train_precision, test_precision))\n",
        "print('AUC: train %.2f, test %.2f.' % (train_auc, test_auc))"
      ],
      "execution_count": 6,
      "outputs": [
        {
          "output_type": "stream",
          "name": "stdout",
          "text": [
            "Precision: train 0.59, test 0.10.\n",
            "AUC: train 0.89, test 0.85.\n"
          ]
        }
      ]
    },
    {
      "cell_type": "code",
      "metadata": {
        "id": "glDAsgDD41i0"
      },
      "source": [
        "\n",
        "item_vectors = movielens['item_features'] * model.item_embeddings"
      ],
      "execution_count": 7,
      "outputs": []
    },
    {
      "cell_type": "code",
      "metadata": {
        "colab": {
          "base_uri": "https://localhost:8080/"
        },
        "id": "zu2O3R1p4xDv",
        "outputId": "4485f7b4-5fdd-41ae-a6f2-e3a7f687b561"
      },
      "source": [
        "for key, value in movielens.items():\n",
        "    print(key, type(value), value.shape)"
      ],
      "execution_count": 8,
      "outputs": [
        {
          "output_type": "stream",
          "name": "stdout",
          "text": [
            "train <class 'scipy.sparse.coo.coo_matrix'> (943, 1682)\n",
            "test <class 'scipy.sparse.coo.coo_matrix'> (943, 1682)\n",
            "item_features <class 'scipy.sparse.csr.csr_matrix'> (1682, 1682)\n",
            "item_feature_labels <class 'numpy.ndarray'> (1682,)\n",
            "item_labels <class 'numpy.ndarray'> (1682,)\n"
          ]
        }
      ]
    },
    {
      "cell_type": "code",
      "metadata": {
        "colab": {
          "base_uri": "https://localhost:8080/"
        },
        "id": "dmux0TEb472M",
        "outputId": "2016647f-2c41-40fc-8534-2a995237b1d3"
      },
      "source": [
        "model = LightFM(learning_rate=0.05, loss='warp')\n",
        "\n",
        "model.fit_partial(train, epochs=10)\n",
        "\n",
        "train_precision = precision_at_k(model, train, k=10).mean()\n",
        "test_precision = precision_at_k(model, test, k=10).mean()\n",
        "\n",
        "train_auc = auc_score(model, train).mean()\n",
        "test_auc = auc_score(model, test).mean()\n",
        "\n",
        "print('Precision: train %.2f, test %.2f.' % (train_precision, test_precision))\n",
        "print('AUC: train %.2f, test %.2f.' % (train_auc, test_auc))"
      ],
      "execution_count": 9,
      "outputs": [
        {
          "output_type": "stream",
          "name": "stdout",
          "text": [
            "Precision: train 0.60, test 0.11.\n",
            "AUC: train 0.94, test 0.90.\n"
          ]
        }
      ]
    },
    {
      "cell_type": "code",
      "metadata": {
        "id": "yVZlpDkR5BgS"
      },
      "source": [
        "with open('movielens.pickle', 'wb') as f:\n",
        "    pickle.dump({\"name\": movielens['item_feature_labels'], \"vector\": item_vectors}, f)"
      ],
      "execution_count": 10,
      "outputs": []
    },
    {
      "cell_type": "code",
      "metadata": {
        "colab": {
          "base_uri": "https://localhost:8080/"
        },
        "id": "-RgZKT6k6rQe",
        "outputId": "21b20afb-eb8d-4ac0-a41e-681490cfd0bd"
      },
      "source": [
        "def load_data():\n",
        "    with open('movielens.pickle', 'rb') as f:\n",
        "        data = pickle.load(f)\n",
        "    return data\n",
        "\n",
        "data = load_data()\n",
        "data"
      ],
      "execution_count": 11,
      "outputs": [
        {
          "output_type": "execute_result",
          "data": {
            "text/plain": [
              "{'name': array(['Toy Story (1995)', 'GoldenEye (1995)', 'Four Rooms (1995)', ...,\n",
              "        'Sliding Doors (1998)', 'You So Crazy (1994)',\n",
              "        'Scream of Stone (Schrei aus Stein) (1991)'], dtype=object),\n",
              " 'vector': array([[ 0.23409992, -0.649664  ,  0.32381263, ...,  0.2666248 ,\n",
              "         -0.58260924,  0.257941  ],\n",
              "        [ 0.02928501, -0.15290615,  0.01266694, ..., -0.53318506,\n",
              "         -0.53478944,  0.08389454],\n",
              "        [ 0.3817396 , -0.4372891 ,  0.39676225, ...,  0.29956925,\n",
              "         -0.30343893,  0.42843935],\n",
              "        ...,\n",
              "        [ 0.10886277, -0.10511472, -0.00861692, ...,  0.04481719,\n",
              "          0.2430882 , -0.03099445],\n",
              "        [ 0.06991807, -0.09576913, -0.01252945, ..., -0.02118149,\n",
              "         -0.06926748, -0.05114214],\n",
              "        [ 0.02546378, -0.01588266,  0.09501867, ...,  0.04091675,\n",
              "         -0.07064592,  0.09796126]], dtype=float32)}"
            ]
          },
          "metadata": {},
          "execution_count": 11
        }
      ]
    },
    {
      "cell_type": "code",
      "metadata": {
        "colab": {
          "base_uri": "https://localhost:8080/"
        },
        "id": "DmFO9oCK7AmE",
        "outputId": "79594db5-fc99-4dc5-f96e-0a2e2e9b9f74"
      },
      "source": [
        "!pip install faiss-gpu\n",
        "import faiss"
      ],
      "execution_count": 12,
      "outputs": [
        {
          "output_type": "stream",
          "name": "stdout",
          "text": [
            "Requirement already satisfied: faiss-gpu in /usr/local/lib/python3.7/dist-packages (1.7.1.post2)\n"
          ]
        }
      ]
    },
    {
      "cell_type": "markdown",
      "metadata": {
        "id": "nkA-zeil7IxM"
      },
      "source": [
        "**Locality_Sensitive_Hashing**"
      ]
    },
    {
      "cell_type": "code",
      "metadata": {
        "id": "aCHeQZuX7TOA"
      },
      "source": [
        "class LSHIndex():\n",
        "    def __init__(self, vectors, labels):\n",
        "        self.dimension = vectors.shape[1]\n",
        "        self.vectors = vectors.astype('float32')\n",
        "        self.labels = labels    \n",
        "   \n",
        "    def build(self, num_bits=8):\n",
        "        self.index = faiss.IndexLSH(self.dimension, num_bits)\n",
        "        self.index.add(self.vectors)\n",
        "          \n",
        "    def query(self, vectors, k=10):\n",
        "        distances, indices = self.index.search(vectors, k) \n",
        "        return [self.labels[i] for i in indices[0]]"
      ],
      "execution_count": 13,
      "outputs": []
    },
    {
      "cell_type": "code",
      "metadata": {
        "id": "uk_Ct5p-7V7n"
      },
      "source": [
        "index = LSHIndex(data[\"vector\"], data[\"name\"])\n",
        "index.build()"
      ],
      "execution_count": 14,
      "outputs": []
    },
    {
      "cell_type": "code",
      "metadata": {
        "id": "H0tvukVr7YJK",
        "colab": {
          "base_uri": "https://localhost:8080/"
        },
        "outputId": "43889ffd-9161-4787-d3fd-ac8ad0b06595"
      },
      "source": [
        "movie_vector, movie_name = data['vector'][90:91], data['name'][90]\n",
        "simlar_movie_questions = '\\n* '.join(index.query(movie_vector))\n",
        "print(f\"The most similar movies to {movie_name} are:\\n* {simlar_movie_questions}\")"
      ],
      "execution_count": 15,
      "outputs": [
        {
          "output_type": "stream",
          "name": "stdout",
          "text": [
            "The most similar movies to Nightmare Before Christmas, The (1993) are:\n",
            "* Lion King, The (1994)\n",
            "* Star Trek III: The Search for Spock (1984)\n",
            "* Star Trek: The Wrath of Khan (1982)\n",
            "* Nightmare Before Christmas, The (1993)\n",
            "* Maverick (1994)\n",
            "* Man Without a Face, The (1993)\n",
            "* Robin Hood: Prince of Thieves (1991)\n",
            "* Nell (1994)\n",
            "* Aladdin (1992)\n",
            "* Sleepless in Seattle (1993)\n"
          ]
        }
      ]
    },
    {
      "cell_type": "markdown",
      "metadata": {
        "id": "yxvhabc27w8I"
      },
      "source": [
        "**Trees** and Graphs using Annoy"
      ]
    },
    {
      "cell_type": "code",
      "metadata": {
        "id": "ygo6ZGTc7kyf"
      },
      "source": [
        "class TreesIndex():\n",
        "    def __init__(self, vectors, labels):\n",
        "        self.dimention = vectors.shape[1]\n",
        "        self.vectors = vectors.astype('float32')\n",
        "        self.labels = labels\n",
        "\n",
        "\n",
        "    def build(self, number_of_trees=5):\n",
        "        self.index = annoy.AnnoyIndex(self.dimention)\n",
        "        for i, vec in enumerate(self.vectors):\n",
        "            self.index.add_item(i, vec.tolist())\n",
        "        self.index.build(number_of_trees)\n",
        "        \n",
        "    def query(self, vector, k=10):\n",
        "        indices = self.index.get_nns_by_vector(vector.tolist(), k)\n",
        "        return [self.labels[i] for i in indices]"
      ],
      "execution_count": 16,
      "outputs": []
    },
    {
      "cell_type": "code",
      "metadata": {
        "id": "-Vv298o7721A",
        "colab": {
          "base_uri": "https://localhost:8080/"
        },
        "outputId": "47075c5e-376c-4719-e76e-4885a66cff46"
      },
      "source": [
        "!pip install annoy\n",
        "import annoy\n",
        "index = TreesIndex(data[\"vector\"], data[\"name\"])\n",
        "index.build()"
      ],
      "execution_count": 17,
      "outputs": [
        {
          "output_type": "stream",
          "name": "stdout",
          "text": [
            "Collecting annoy\n",
            "  Downloading annoy-1.17.0.tar.gz (646 kB)\n",
            "\u001b[?25l\r\u001b[K     |▌                               | 10 kB 24.2 MB/s eta 0:00:01\r\u001b[K     |█                               | 20 kB 28.1 MB/s eta 0:00:01\r\u001b[K     |█▌                              | 30 kB 15.2 MB/s eta 0:00:01\r\u001b[K     |██                              | 40 kB 10.7 MB/s eta 0:00:01\r\u001b[K     |██▌                             | 51 kB 5.5 MB/s eta 0:00:01\r\u001b[K     |███                             | 61 kB 5.8 MB/s eta 0:00:01\r\u001b[K     |███▌                            | 71 kB 5.2 MB/s eta 0:00:01\r\u001b[K     |████                            | 81 kB 5.8 MB/s eta 0:00:01\r\u001b[K     |████▋                           | 92 kB 5.8 MB/s eta 0:00:01\r\u001b[K     |█████                           | 102 kB 5.2 MB/s eta 0:00:01\r\u001b[K     |█████▋                          | 112 kB 5.2 MB/s eta 0:00:01\r\u001b[K     |██████                          | 122 kB 5.2 MB/s eta 0:00:01\r\u001b[K     |██████▋                         | 133 kB 5.2 MB/s eta 0:00:01\r\u001b[K     |███████                         | 143 kB 5.2 MB/s eta 0:00:01\r\u001b[K     |███████▋                        | 153 kB 5.2 MB/s eta 0:00:01\r\u001b[K     |████████▏                       | 163 kB 5.2 MB/s eta 0:00:01\r\u001b[K     |████████▋                       | 174 kB 5.2 MB/s eta 0:00:01\r\u001b[K     |█████████▏                      | 184 kB 5.2 MB/s eta 0:00:01\r\u001b[K     |█████████▋                      | 194 kB 5.2 MB/s eta 0:00:01\r\u001b[K     |██████████▏                     | 204 kB 5.2 MB/s eta 0:00:01\r\u001b[K     |██████████▋                     | 215 kB 5.2 MB/s eta 0:00:01\r\u001b[K     |███████████▏                    | 225 kB 5.2 MB/s eta 0:00:01\r\u001b[K     |███████████▋                    | 235 kB 5.2 MB/s eta 0:00:01\r\u001b[K     |████████████▏                   | 245 kB 5.2 MB/s eta 0:00:01\r\u001b[K     |████████████▊                   | 256 kB 5.2 MB/s eta 0:00:01\r\u001b[K     |█████████████▏                  | 266 kB 5.2 MB/s eta 0:00:01\r\u001b[K     |█████████████▊                  | 276 kB 5.2 MB/s eta 0:00:01\r\u001b[K     |██████████████▏                 | 286 kB 5.2 MB/s eta 0:00:01\r\u001b[K     |██████████████▊                 | 296 kB 5.2 MB/s eta 0:00:01\r\u001b[K     |███████████████▏                | 307 kB 5.2 MB/s eta 0:00:01\r\u001b[K     |███████████████▊                | 317 kB 5.2 MB/s eta 0:00:01\r\u001b[K     |████████████████▎               | 327 kB 5.2 MB/s eta 0:00:01\r\u001b[K     |████████████████▊               | 337 kB 5.2 MB/s eta 0:00:01\r\u001b[K     |█████████████████▎              | 348 kB 5.2 MB/s eta 0:00:01\r\u001b[K     |█████████████████▊              | 358 kB 5.2 MB/s eta 0:00:01\r\u001b[K     |██████████████████▎             | 368 kB 5.2 MB/s eta 0:00:01\r\u001b[K     |██████████████████▊             | 378 kB 5.2 MB/s eta 0:00:01\r\u001b[K     |███████████████████▎            | 389 kB 5.2 MB/s eta 0:00:01\r\u001b[K     |███████████████████▊            | 399 kB 5.2 MB/s eta 0:00:01\r\u001b[K     |████████████████████▎           | 409 kB 5.2 MB/s eta 0:00:01\r\u001b[K     |████████████████████▉           | 419 kB 5.2 MB/s eta 0:00:01\r\u001b[K     |█████████████████████▎          | 430 kB 5.2 MB/s eta 0:00:01\r\u001b[K     |█████████████████████▉          | 440 kB 5.2 MB/s eta 0:00:01\r\u001b[K     |██████████████████████▎         | 450 kB 5.2 MB/s eta 0:00:01\r\u001b[K     |██████████████████████▉         | 460 kB 5.2 MB/s eta 0:00:01\r\u001b[K     |███████████████████████▎        | 471 kB 5.2 MB/s eta 0:00:01\r\u001b[K     |███████████████████████▉        | 481 kB 5.2 MB/s eta 0:00:01\r\u001b[K     |████████████████████████▍       | 491 kB 5.2 MB/s eta 0:00:01\r\u001b[K     |████████████████████████▉       | 501 kB 5.2 MB/s eta 0:00:01\r\u001b[K     |█████████████████████████▍      | 512 kB 5.2 MB/s eta 0:00:01\r\u001b[K     |█████████████████████████▉      | 522 kB 5.2 MB/s eta 0:00:01\r\u001b[K     |██████████████████████████▍     | 532 kB 5.2 MB/s eta 0:00:01\r\u001b[K     |██████████████████████████▉     | 542 kB 5.2 MB/s eta 0:00:01\r\u001b[K     |███████████████████████████▍    | 552 kB 5.2 MB/s eta 0:00:01\r\u001b[K     |███████████████████████████▉    | 563 kB 5.2 MB/s eta 0:00:01\r\u001b[K     |████████████████████████████▍   | 573 kB 5.2 MB/s eta 0:00:01\r\u001b[K     |█████████████████████████████   | 583 kB 5.2 MB/s eta 0:00:01\r\u001b[K     |█████████████████████████████▍  | 593 kB 5.2 MB/s eta 0:00:01\r\u001b[K     |██████████████████████████████  | 604 kB 5.2 MB/s eta 0:00:01\r\u001b[K     |██████████████████████████████▍ | 614 kB 5.2 MB/s eta 0:00:01\r\u001b[K     |███████████████████████████████ | 624 kB 5.2 MB/s eta 0:00:01\r\u001b[K     |███████████████████████████████▍| 634 kB 5.2 MB/s eta 0:00:01\r\u001b[K     |████████████████████████████████| 645 kB 5.2 MB/s eta 0:00:01\r\u001b[K     |████████████████████████████████| 646 kB 5.2 MB/s \n",
            "\u001b[?25hBuilding wheels for collected packages: annoy\n",
            "  Building wheel for annoy (setup.py) ... \u001b[?25l\u001b[?25hdone\n",
            "  Created wheel for annoy: filename=annoy-1.17.0-cp37-cp37m-linux_x86_64.whl size=391672 sha256=84e406f029e41c5e7ce8de6e3412571af07d987c1281e0005e48554f2070bd4e\n",
            "  Stored in directory: /root/.cache/pip/wheels/4f/e8/1e/7cc9ebbfa87a3b9f8ba79408d4d31831d67eea918b679a4c07\n",
            "Successfully built annoy\n",
            "Installing collected packages: annoy\n",
            "Successfully installed annoy-1.17.0\n"
          ]
        },
        {
          "output_type": "stream",
          "name": "stderr",
          "text": [
            "/usr/local/lib/python3.7/dist-packages/ipykernel_launcher.py:9: FutureWarning: The default argument for metric will be removed in future version of Annoy. Please pass metric='angular' explicitly.\n",
            "  if __name__ == '__main__':\n"
          ]
        }
      ]
    },
    {
      "cell_type": "code",
      "metadata": {
        "id": "soAW_l7R75Xl",
        "colab": {
          "base_uri": "https://localhost:8080/"
        },
        "outputId": "fe3f5c4b-b4d9-4e0d-c697-42691b6a8423"
      },
      "source": [
        "!pip install annoy\n",
        "import annoy"
      ],
      "execution_count": 18,
      "outputs": [
        {
          "output_type": "stream",
          "name": "stdout",
          "text": [
            "Requirement already satisfied: annoy in /usr/local/lib/python3.7/dist-packages (1.17.0)\n"
          ]
        }
      ]
    },
    {
      "cell_type": "code",
      "metadata": {
        "id": "SqFZRDhu7-41",
        "colab": {
          "base_uri": "https://localhost:8080/"
        },
        "outputId": "b2ef3e62-7178-4dcf-bddb-0e4c7aa14c8b"
      },
      "source": [
        "movie_vector, movie_name = data['vector'][90], data['name'][90]\n",
        "similar_movie_questions = '\\n* '.join(index.query(movie_vector))\n",
        "print(f\"The most similar movie to {movie_name} are:\\n* {simlar_movie_questions}\")"
      ],
      "execution_count": 19,
      "outputs": [
        {
          "output_type": "stream",
          "name": "stdout",
          "text": [
            "The most similar movie to Nightmare Before Christmas, The (1993) are:\n",
            "* Lion King, The (1994)\n",
            "* Star Trek III: The Search for Spock (1984)\n",
            "* Star Trek: The Wrath of Khan (1982)\n",
            "* Nightmare Before Christmas, The (1993)\n",
            "* Maverick (1994)\n",
            "* Man Without a Face, The (1993)\n",
            "* Robin Hood: Prince of Thieves (1991)\n",
            "* Nell (1994)\n",
            "* Aladdin (1992)\n",
            "* Sleepless in Seattle (1993)\n"
          ]
        }
      ]
    },
    {
      "cell_type": "code",
      "metadata": {
        "id": "H8kFqDzr8bXI",
        "colab": {
          "base_uri": "https://localhost:8080/"
        },
        "outputId": "a54ce85a-719c-431c-e225-571152237766"
      },
      "source": [
        "!pip install nmslib\n",
        "import nmslib"
      ],
      "execution_count": 20,
      "outputs": [
        {
          "output_type": "stream",
          "name": "stdout",
          "text": [
            "Collecting nmslib\n",
            "  Downloading nmslib-2.1.1-cp37-cp37m-manylinux2010_x86_64.whl (13.5 MB)\n",
            "\u001b[K     |████████████████████████████████| 13.5 MB 5.2 MB/s \n",
            "\u001b[?25hRequirement already satisfied: psutil in /usr/local/lib/python3.7/dist-packages (from nmslib) (5.4.8)\n",
            "Collecting pybind11<2.6.2\n",
            "  Downloading pybind11-2.6.1-py2.py3-none-any.whl (188 kB)\n",
            "\u001b[K     |████████████████████████████████| 188 kB 49.7 MB/s \n",
            "\u001b[?25hRequirement already satisfied: numpy>=1.10.0 in /usr/local/lib/python3.7/dist-packages (from nmslib) (1.19.5)\n",
            "Installing collected packages: pybind11, nmslib\n",
            "Successfully installed nmslib-2.1.1 pybind11-2.6.1\n"
          ]
        }
      ]
    },
    {
      "cell_type": "markdown",
      "metadata": {
        "id": "Jzve5t-D8lTz"
      },
      "source": [
        "**HNSW: Hierarchical Navigable Small World Algorithm**"
      ]
    },
    {
      "cell_type": "code",
      "metadata": {
        "id": "1mw19eD28jdy"
      },
      "source": [
        "class HNSWIndex():\n",
        "    def __init__(self, vectors, labels):\n",
        "        self.dimention = vectors.shape[1]\n",
        "        self.vectors = vectors.astype('float32')\n",
        "        self.labels = labels\n",
        "    def build(self):\n",
        "        self.index = nmslib.init(method='hnsw', space='cosinesimil')\n",
        "        self.index.addDataPointBatch(self.vectors)\n",
        "        self.index.createIndex({'post': 2})\n",
        "        \n",
        "    def query(self, vector, k=10):\n",
        "        indices = self.index.knnQuery(vector, k=k)\n",
        "        return [self.labels[i] for i in indices[0]]"
      ],
      "execution_count": 21,
      "outputs": []
    },
    {
      "cell_type": "code",
      "metadata": {
        "id": "9ONG-kIN8tWg"
      },
      "source": [
        "index = HNSWIndex(data[\"vector\"], data[\"name\"])\n",
        "index.build()"
      ],
      "execution_count": 22,
      "outputs": []
    },
    {
      "cell_type": "code",
      "metadata": {
        "id": "Pd8dnCjt8ved",
        "colab": {
          "base_uri": "https://localhost:8080/"
        },
        "outputId": "6577408e-ed58-4d84-e10a-be34c666729a"
      },
      "source": [
        "movie_vector, movie_name = data['vector'][90], data['name'][90]\n",
        "simlar_movie_questions = '\\n* '.join(index.query(movie_vector))\n",
        "print(f\"The most similar stack to {movie_name} are:\\n* {simlar_movie_questions}\")"
      ],
      "execution_count": 23,
      "outputs": [
        {
          "output_type": "stream",
          "name": "stdout",
          "text": [
            "The most similar stack to Nightmare Before Christmas, The (1993) are:\n",
            "* Nightmare Before Christmas, The (1993)\n",
            "* Star Trek: Generations (1994)\n",
            "* Star Trek III: The Search for Spock (1984)\n",
            "* Star Trek: The Wrath of Khan (1982)\n",
            "* Conan the Barbarian (1981)\n",
            "* Star Trek IV: The Voyage Home (1986)\n",
            "* Pretty Woman (1990)\n",
            "* Mrs. Doubtfire (1993)\n",
            "* Maverick (1994)\n",
            "* Madame Butterfly (1995)\n"
          ]
        }
      ]
    },
    {
      "cell_type": "markdown",
      "metadata": {
        "id": "x3DEaazv9f_B"
      },
      "source": [
        "**Product** **Quantization**"
      ]
    },
    {
      "cell_type": "code",
      "metadata": {
        "id": "mSVOFG9H866l"
      },
      "source": [
        "class ProductIndex():\n",
        "    def __init__(self, vectors, labels):\n",
        "        self.dimension = vectors.shape[1]\n",
        "        self.vectors = vectors.astype('float32')\n",
        "        self.labels = labels    \n",
        "    def build(self, number_of_partition=8, search_in_x_partitions=2, subvector_size=8):\n",
        "        quantizer = faiss.IndexFlatL2(self.dimension)\n",
        "        self.index = faiss.IndexIVFPQ(quantizer, \n",
        "                                      self.dimension, \n",
        "                                      number_of_partition, \n",
        "                                      search_in_x_partitions, \n",
        "                                      subvector_size)\n",
        "        self.index.train(self.vectors)\n",
        "        self.index.add(self.vectors)\n",
        "        \n",
        "    def query(self, vectors, k=10):\n",
        "        distances, indices = self.index.search(vectors, k) \n",
        "        # I expect only query on one vector thus the slice\n",
        "        return [self.labels[i] for i in indices[0]]"
      ],
      "execution_count": 24,
      "outputs": []
    },
    {
      "cell_type": "code",
      "metadata": {
        "id": "UlNXI1kM90yO"
      },
      "source": [
        "index = ProductIndex(data[\"vector\"], data[\"name\"])\n",
        "index.build()"
      ],
      "execution_count": 25,
      "outputs": []
    },
    {
      "cell_type": "code",
      "metadata": {
        "id": "I6YbBdTm94DO",
        "colab": {
          "base_uri": "https://localhost:8080/"
        },
        "outputId": "25adb84d-a8f1-43f2-d4a4-921f2809d19e"
      },
      "source": [
        "movie_index = 90\n",
        "movie_vector = data['vector'][movie_index:movie_index+1]\n",
        "print(f\"The most simillar movie to {data['name'][movie_index]} are:\")\n",
        "index.query(movie_vector)"
      ],
      "execution_count": 26,
      "outputs": [
        {
          "output_type": "stream",
          "name": "stdout",
          "text": [
            "The most simillar movie to Nightmare Before Christmas, The (1993) are:\n"
          ]
        },
        {
          "output_type": "execute_result",
          "data": {
            "text/plain": [
              "['Nightmare Before Christmas, The (1993)',\n",
              " 'Sleepless in Seattle (1993)',\n",
              " 'Hunt for Red October, The (1990)',\n",
              " 'Sound of Music, The (1965)',\n",
              " 'Groundhog Day (1993)',\n",
              " 'Princess Bride, The (1987)',\n",
              " 'Sneakers (1992)',\n",
              " 'Dave (1993)',\n",
              " 'Speed (1994)',\n",
              " 'True Lies (1994)']"
            ]
          },
          "metadata": {},
          "execution_count": 26
        }
      ]
    },
    {
      "cell_type": "markdown",
      "metadata": {
        "id": "golvOwJ3-Lac"
      },
      "source": [
        "**Exhaustive** **Search**"
      ]
    },
    {
      "cell_type": "code",
      "metadata": {
        "id": "s_yunGLV-DaP"
      },
      "source": [
        "class ExhaustiveIndex():\n",
        "    def __init__(self, vectors, labels):\n",
        "        self.dimension = vectors.shape[1]\n",
        "        self.vectors = vectors.astype('float32')\n",
        "        self.labels = labels    \n",
        "   \n",
        "    def build(self):\n",
        "        self.index = faiss.IndexFlatL2(self.dimension,)\n",
        "        self.index.add(self.vectors)\n",
        "        \n",
        "    def query(self, vectors, k=10):\n",
        "        distances, indices = self.index.search(vectors, k) \n",
        "        return [self.labels[i] for i in indices[0]]"
      ],
      "execution_count": 27,
      "outputs": []
    },
    {
      "cell_type": "code",
      "metadata": {
        "id": "JyME-heu-Svx"
      },
      "source": [
        "index = ExhaustiveIndex(data[\"vector\"], data[\"name\"])\n",
        "index.build()"
      ],
      "execution_count": 28,
      "outputs": []
    },
    {
      "cell_type": "code",
      "metadata": {
        "id": "Vi_QDrmQ-Vp5",
        "colab": {
          "base_uri": "https://localhost:8080/"
        },
        "outputId": "92f9ffa4-64ba-4153-e179-e3b981588aee"
      },
      "source": [
        "movie_vector, movie_name = data['vector'][90:91], data['name'][90]\n",
        "simlar_movie_questions = '\\n* '.join(index.query(movie_vector))\n",
        "print(f\"The most similar movie to {movie_name} are:\\n* {simlar_movie_questions}\")"
      ],
      "execution_count": 29,
      "outputs": [
        {
          "output_type": "stream",
          "name": "stdout",
          "text": [
            "The most similar movie to Nightmare Before Christmas, The (1993) are:\n",
            "* Nightmare Before Christmas, The (1993)\n",
            "* Star Trek: Generations (1994)\n",
            "* Conan the Barbarian (1981)\n",
            "* Maverick (1994)\n",
            "* Pretty Woman (1990)\n",
            "* Heavy Metal (1981)\n",
            "* Sleepless in Seattle (1993)\n",
            "* Lion King, The (1994)\n",
            "* Star Trek III: The Search for Spock (1984)\n",
            "* Groundhog Day (1993)\n"
          ]
        }
      ]
    },
    {
      "cell_type": "code",
      "metadata": {
        "id": "VjPf0gno-hTE"
      },
      "source": [
        ""
      ],
      "execution_count": 29,
      "outputs": []
    }
  ]
}