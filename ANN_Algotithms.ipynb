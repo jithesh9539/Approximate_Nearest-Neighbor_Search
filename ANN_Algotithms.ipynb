{
  "nbformat": 4,
  "nbformat_minor": 0,
  "metadata": {
    "colab": {
      "name": "ANN_Algotithms.ipynb",
      "provenance": [],
      "authorship_tag": "ABX9TyPjSnDZSU8CPcBq7YjGc3IN",
      "include_colab_link": true
    },
    "kernelspec": {
      "name": "python3",
      "display_name": "Python 3"
    },
    "language_info": {
      "name": "python"
    }
  },
  "cells": [
    {
      "cell_type": "markdown",
      "metadata": {
        "id": "view-in-github",
        "colab_type": "text"
      },
      "source": [
        "<a href=\"https://colab.research.google.com/github/jithesh9539/Approximate_Nearest-Neighbor_Search/blob/main/ANN_Algotithms.ipynb\" target=\"_parent\"><img src=\"https://colab.research.google.com/assets/colab-badge.svg\" alt=\"Open In Colab\"/></a>"
      ]
    },
    {
      "cell_type": "code",
      "metadata": {
        "id": "N71_fElG0mCp"
      },
      "source": [
        "from lightfm import LightFM\n",
        "from lightfm.datasets import fetch_movielens\n",
        "import pickle"
      ],
      "execution_count": 24,
      "outputs": []
    },
    {
      "cell_type": "code",
      "metadata": {
        "colab": {
          "base_uri": "https://localhost:8080/"
        },
        "id": "rV0H0KGq4CP7",
        "outputId": "9fc65edd-1a3a-4435-acf6-838b00a8ac25"
      },
      "source": [
        ""
      ],
      "execution_count": 16,
      "outputs": [
        {
          "output_type": "stream",
          "name": "stdout",
          "text": [
            "Collecting lightfm\n",
            "  Downloading lightfm-1.16.tar.gz (310 kB)\n",
            "\u001b[?25l\r\u001b[K     |█                               | 10 kB 21.4 MB/s eta 0:00:01\r\u001b[K     |██▏                             | 20 kB 25.5 MB/s eta 0:00:01\r\u001b[K     |███▏                            | 30 kB 28.1 MB/s eta 0:00:01\r\u001b[K     |████▎                           | 40 kB 30.1 MB/s eta 0:00:01\r\u001b[K     |█████▎                          | 51 kB 31.3 MB/s eta 0:00:01\r\u001b[K     |██████▍                         | 61 kB 30.2 MB/s eta 0:00:01\r\u001b[K     |███████▍                        | 71 kB 29.1 MB/s eta 0:00:01\r\u001b[K     |████████▌                       | 81 kB 27.9 MB/s eta 0:00:01\r\u001b[K     |█████████▌                      | 92 kB 29.5 MB/s eta 0:00:01\r\u001b[K     |██████████▋                     | 102 kB 31.2 MB/s eta 0:00:01\r\u001b[K     |███████████▋                    | 112 kB 31.2 MB/s eta 0:00:01\r\u001b[K     |████████████▊                   | 122 kB 31.2 MB/s eta 0:00:01\r\u001b[K     |█████████████▊                  | 133 kB 31.2 MB/s eta 0:00:01\r\u001b[K     |██████████████▉                 | 143 kB 31.2 MB/s eta 0:00:01\r\u001b[K     |███████████████▉                | 153 kB 31.2 MB/s eta 0:00:01\r\u001b[K     |█████████████████               | 163 kB 31.2 MB/s eta 0:00:01\r\u001b[K     |██████████████████              | 174 kB 31.2 MB/s eta 0:00:01\r\u001b[K     |███████████████████             | 184 kB 31.2 MB/s eta 0:00:01\r\u001b[K     |████████████████████            | 194 kB 31.2 MB/s eta 0:00:01\r\u001b[K     |█████████████████████▏          | 204 kB 31.2 MB/s eta 0:00:01\r\u001b[K     |██████████████████████▏         | 215 kB 31.2 MB/s eta 0:00:01\r\u001b[K     |███████████████████████▎        | 225 kB 31.2 MB/s eta 0:00:01\r\u001b[K     |████████████████████████▎       | 235 kB 31.2 MB/s eta 0:00:01\r\u001b[K     |█████████████████████████▍      | 245 kB 31.2 MB/s eta 0:00:01\r\u001b[K     |██████████████████████████▍     | 256 kB 31.2 MB/s eta 0:00:01\r\u001b[K     |███████████████████████████▌    | 266 kB 31.2 MB/s eta 0:00:01\r\u001b[K     |████████████████████████████▌   | 276 kB 31.2 MB/s eta 0:00:01\r\u001b[K     |█████████████████████████████▋  | 286 kB 31.2 MB/s eta 0:00:01\r\u001b[K     |██████████████████████████████▋ | 296 kB 31.2 MB/s eta 0:00:01\r\u001b[K     |███████████████████████████████▊| 307 kB 31.2 MB/s eta 0:00:01\r\u001b[K     |████████████████████████████████| 310 kB 31.2 MB/s \n",
            "\u001b[?25hRequirement already satisfied: numpy in /usr/local/lib/python3.7/dist-packages (from lightfm) (1.19.5)\n",
            "Requirement already satisfied: scipy>=0.17.0 in /usr/local/lib/python3.7/dist-packages (from lightfm) (1.4.1)\n",
            "Requirement already satisfied: requests in /usr/local/lib/python3.7/dist-packages (from lightfm) (2.23.0)\n",
            "Requirement already satisfied: scikit-learn in /usr/local/lib/python3.7/dist-packages (from lightfm) (1.0.1)\n",
            "Requirement already satisfied: certifi>=2017.4.17 in /usr/local/lib/python3.7/dist-packages (from requests->lightfm) (2021.10.8)\n",
            "Requirement already satisfied: chardet<4,>=3.0.2 in /usr/local/lib/python3.7/dist-packages (from requests->lightfm) (3.0.4)\n",
            "Requirement already satisfied: idna<3,>=2.5 in /usr/local/lib/python3.7/dist-packages (from requests->lightfm) (2.10)\n",
            "Requirement already satisfied: urllib3!=1.25.0,!=1.25.1,<1.26,>=1.21.1 in /usr/local/lib/python3.7/dist-packages (from requests->lightfm) (1.24.3)\n",
            "Requirement already satisfied: joblib>=0.11 in /usr/local/lib/python3.7/dist-packages (from scikit-learn->lightfm) (1.1.0)\n",
            "Requirement already satisfied: threadpoolctl>=2.0.0 in /usr/local/lib/python3.7/dist-packages (from scikit-learn->lightfm) (3.0.0)\n",
            "Building wheels for collected packages: lightfm\n",
            "  Building wheel for lightfm (setup.py) ... \u001b[?25l\u001b[?25hdone\n",
            "  Created wheel for lightfm: filename=lightfm-1.16-cp37-cp37m-linux_x86_64.whl size=705348 sha256=8148d6964ebf6c5b41703e0d81f705904f6937da47b592f47cf653f46e406060\n",
            "  Stored in directory: /root/.cache/pip/wheels/f8/56/28/5772a3bd3413d65f03aa452190b00898b680b10028a1021914\n",
            "Successfully built lightfm\n",
            "Installing collected packages: lightfm\n",
            "Successfully installed lightfm-1.16\n"
          ]
        }
      ]
    },
    {
      "cell_type": "code",
      "metadata": {
        "id": "k8XCR7V64JYb"
      },
      "source": [
        "import numpy as np\n",
        "\n",
        "from lightfm.datasets import fetch_movielens\n",
        "\n",
        "movielens = fetch_movielens()"
      ],
      "execution_count": 26,
      "outputs": []
    },
    {
      "cell_type": "code",
      "metadata": {
        "colab": {
          "base_uri": "https://localhost:8080/"
        },
        "id": "zu2O3R1p4xDv",
        "outputId": "6bb19c40-7882-4222-ee9d-9b88281aa185"
      },
      "source": [
        "for key, value in movielens.items():\n",
        "    print(key, type(value), value.shape)"
      ],
      "execution_count": 27,
      "outputs": [
        {
          "output_type": "stream",
          "name": "stdout",
          "text": [
            "train <class 'scipy.sparse.coo.coo_matrix'> (943, 1682)\n",
            "test <class 'scipy.sparse.coo.coo_matrix'> (943, 1682)\n",
            "item_features <class 'scipy.sparse.csr.csr_matrix'> (1682, 1682)\n",
            "item_feature_labels <class 'numpy.ndarray'> (1682,)\n",
            "item_labels <class 'numpy.ndarray'> (1682,)\n"
          ]
        }
      ]
    },
    {
      "cell_type": "code",
      "metadata": {
        "id": "glDAsgDD41i0"
      },
      "source": [
        "train = movielens['train']\n",
        "test = movielens['test']\n",
        "item_vectors = movielens['item_features'] * model.item_embeddings"
      ],
      "execution_count": 31,
      "outputs": []
    },
    {
      "cell_type": "code",
      "metadata": {
        "colab": {
          "base_uri": "https://localhost:8080/"
        },
        "id": "OX134HpV449h",
        "outputId": "eb945112-b822-406e-ec4f-fd2e67082b1b"
      },
      "source": [
        "from lightfm import LightFM\n",
        "from lightfm.evaluation import precision_at_k\n",
        "from lightfm.evaluation import auc_score\n",
        "\n",
        "model = LightFM(learning_rate=0.05, loss='bpr')\n",
        "model.fit(train, epochs=10)\n",
        "\n",
        "train_precision = precision_at_k(model, train, k=10).mean()\n",
        "test_precision = precision_at_k(model, test, k=10).mean()\n",
        "\n",
        "train_auc = auc_score(model, train).mean()\n",
        "test_auc = auc_score(model, test).mean()\n",
        "\n",
        "print('Precision: train %.2f, test %.2f.' % (train_precision, test_precision))\n",
        "print('AUC: train %.2f, test %.2f.' % (train_auc, test_auc))"
      ],
      "execution_count": 21,
      "outputs": [
        {
          "output_type": "stream",
          "name": "stdout",
          "text": [
            "Precision: train 0.59, test 0.10.\n",
            "AUC: train 0.90, test 0.86.\n"
          ]
        }
      ]
    },
    {
      "cell_type": "code",
      "metadata": {
        "colab": {
          "base_uri": "https://localhost:8080/"
        },
        "id": "dmux0TEb472M",
        "outputId": "70a873bd-7813-42be-dcb8-a7c566670627"
      },
      "source": [
        "model = LightFM(learning_rate=0.05, loss='warp')\n",
        "\n",
        "model.fit_partial(train, epochs=10)\n",
        "\n",
        "train_precision = precision_at_k(model, train, k=10).mean()\n",
        "test_precision = precision_at_k(model, test, k=10).mean()\n",
        "\n",
        "train_auc = auc_score(model, train).mean()\n",
        "test_auc = auc_score(model, test).mean()\n",
        "\n",
        "print('Precision: train %.2f, test %.2f.' % (train_precision, test_precision))\n",
        "print('AUC: train %.2f, test %.2f.' % (train_auc, test_auc))"
      ],
      "execution_count": 22,
      "outputs": [
        {
          "output_type": "stream",
          "name": "stdout",
          "text": [
            "Precision: train 0.61, test 0.11.\n",
            "AUC: train 0.94, test 0.90.\n"
          ]
        }
      ]
    },
    {
      "cell_type": "code",
      "metadata": {
        "id": "yVZlpDkR5BgS"
      },
      "source": [
        "with open('movielens.pickle', 'wb') as f:\n",
        "    pickle.dump({\"name\": movielens['item_feature_labels'], \"vector\": item_vectors}, f)"
      ],
      "execution_count": 32,
      "outputs": []
    },
    {
      "cell_type": "code",
      "metadata": {
        "colab": {
          "base_uri": "https://localhost:8080/"
        },
        "id": "-RgZKT6k6rQe",
        "outputId": "6a453b2b-f189-481e-8d7e-13961f2263c6"
      },
      "source": [
        "def load_data():\n",
        "    with open('movielens.pickle', 'rb') as f:\n",
        "        data = pickle.load(f)\n",
        "    return data\n",
        "\n",
        "data = load_data()\n",
        "data"
      ],
      "execution_count": 33,
      "outputs": [
        {
          "output_type": "execute_result",
          "data": {
            "text/plain": [
              "{'name': array(['Toy Story (1995)', 'GoldenEye (1995)', 'Four Rooms (1995)', ...,\n",
              "        'Sliding Doors (1998)', 'You So Crazy (1994)',\n",
              "        'Scream of Stone (Schrei aus Stein) (1991)'], dtype=object),\n",
              " 'vector': array([[-0.47669363,  0.76664734,  0.5728357 , ..., -0.98119307,\n",
              "          0.18483748,  0.31369993],\n",
              "        [ 0.05845284,  0.17278723,  0.5082774 , ..., -0.53795415,\n",
              "          0.2532802 , -0.9027846 ],\n",
              "        [ 0.19099018,  0.30912766,  0.22659147, ..., -0.33714873,\n",
              "          0.09478349, -0.00221124],\n",
              "        ...,\n",
              "        [ 0.46408868, -0.47072574, -0.57541287, ...,  0.51241237,\n",
              "          0.29486287,  0.07820068],\n",
              "        [ 0.20238926, -0.31854233, -0.1574961 , ...,  0.3242837 ,\n",
              "          0.16420357, -0.0982646 ],\n",
              "        [ 0.39446005, -0.3929522 , -0.31282395, ...,  0.19513677,\n",
              "          0.10329727,  0.00908695]], dtype=float32)}"
            ]
          },
          "metadata": {},
          "execution_count": 33
        }
      ]
    },
    {
      "cell_type": "code",
      "metadata": {
        "colab": {
          "base_uri": "https://localhost:8080/"
        },
        "id": "DmFO9oCK7AmE",
        "outputId": "d29ee136-15e2-4778-a7f1-c935b5be464b"
      },
      "source": [
        "!pip install faiss-gpu\n",
        "import faiss"
      ],
      "execution_count": 34,
      "outputs": [
        {
          "output_type": "stream",
          "name": "stdout",
          "text": [
            "Collecting faiss-gpu\n",
            "  Downloading faiss_gpu-1.7.1.post2-cp37-cp37m-manylinux_2_17_x86_64.manylinux2014_x86_64.whl (89.7 MB)\n",
            "\u001b[K     |████████████████████████████████| 89.7 MB 13 kB/s \n",
            "\u001b[?25hInstalling collected packages: faiss-gpu\n",
            "Successfully installed faiss-gpu-1.7.1.post2\n"
          ]
        }
      ]
    },
    {
      "cell_type": "markdown",
      "metadata": {
        "id": "nkA-zeil7IxM"
      },
      "source": [
        "**Locality_Sensitive_Hashing**"
      ]
    },
    {
      "cell_type": "code",
      "metadata": {
        "id": "aCHeQZuX7TOA"
      },
      "source": [
        "class LSHIndex():\n",
        "    def __init__(self, vectors, labels):\n",
        "        self.dimension = vectors.shape[1]\n",
        "        self.vectors = vectors.astype('float32')\n",
        "        self.labels = labels    \n",
        "   \n",
        "    def build(self, num_bits=8):\n",
        "        self.index = faiss.IndexLSH(self.dimension, num_bits)\n",
        "        self.index.add(self.vectors)\n",
        "        \n",
        "    def query(self, vectors, k=10):\n",
        "        distances, indices = self.index.search(vectors, k) \n",
        "        return [self.labels[i] for i in indices[0]]"
      ],
      "execution_count": 35,
      "outputs": []
    },
    {
      "cell_type": "code",
      "metadata": {
        "id": "uk_Ct5p-7V7n"
      },
      "source": [
        "index = LSHIndex(data[\"vector\"], data[\"name\"])\n",
        "index.build()"
      ],
      "execution_count": 36,
      "outputs": []
    },
    {
      "cell_type": "code",
      "metadata": {
        "colab": {
          "base_uri": "https://localhost:8080/"
        },
        "id": "H0tvukVr7YJK",
        "outputId": "a1ba716a-65a6-4485-ff90-b8fd0d9a1390"
      },
      "source": [
        "movie_vector, movie_name = data['vector'][90:91], data['name'][90]\n",
        "simlar_movie_questions = '\\n* '.join(index.query(movie_vector))\n",
        "print(f\"The most similar movies to {movie_name} are:\\n* {simlar_movie_questions}\")"
      ],
      "execution_count": 38,
      "outputs": [
        {
          "output_type": "stream",
          "name": "stdout",
          "text": [
            "The most similar movies to Nightmare Before Christmas, The (1993) are:\n",
            "* Nightmare Before Christmas, The (1993)\n",
            "* Mr. Smith Goes to Washington (1939)\n",
            "* Gone with the Wind (1939)\n",
            "* Lion King, The (1994)\n",
            "* Homeward Bound: The Incredible Journey (1993)\n",
            "* Bedknobs and Broomsticks (1971)\n",
            "* Wrong Trousers, The (1993)\n",
            "* Pinocchio (1940)\n",
            "* Aristocats, The (1970)\n",
            "* Snow White and the Seven Dwarfs (1937)\n"
          ]
        }
      ]
    },
    {
      "cell_type": "markdown",
      "metadata": {
        "id": "yxvhabc27w8I"
      },
      "source": [
        "**Trees** and Graphs using Annoy"
      ]
    },
    {
      "cell_type": "code",
      "metadata": {
        "id": "ygo6ZGTc7kyf"
      },
      "source": [
        "class TreesIndex():\n",
        "    def __init__(self, vectors, labels):\n",
        "        self.dimention = vectors.shape[1]\n",
        "        self.vectors = vectors.astype('float32')\n",
        "        self.labels = labels\n",
        "\n",
        "\n",
        "    def build(self, number_of_trees=5):\n",
        "        self.index = annoy.AnnoyIndex(self.dimention)\n",
        "        for i, vec in enumerate(self.vectors):\n",
        "            self.index.add_item(i, vec.tolist())\n",
        "        self.index.build(number_of_trees)\n",
        "        \n",
        "    def query(self, vector, k=10):\n",
        "        indices = self.index.get_nns_by_vector(vector.tolist(), k)\n",
        "        return [self.labels[i] for i in indices]"
      ],
      "execution_count": 39,
      "outputs": []
    },
    {
      "cell_type": "code",
      "metadata": {
        "colab": {
          "base_uri": "https://localhost:8080/"
        },
        "id": "-Vv298o7721A",
        "outputId": "346ab511-7444-4ebe-a332-7db715a65e8c"
      },
      "source": [
        "index = TreesIndex(data[\"vector\"], data[\"name\"])\n",
        "index.build()"
      ],
      "execution_count": 42,
      "outputs": [
        {
          "output_type": "stream",
          "name": "stderr",
          "text": [
            "/usr/local/lib/python3.7/dist-packages/ipykernel_launcher.py:9: FutureWarning: The default argument for metric will be removed in future version of Annoy. Please pass metric='angular' explicitly.\n",
            "  if __name__ == '__main__':\n"
          ]
        }
      ]
    },
    {
      "cell_type": "code",
      "metadata": {
        "colab": {
          "base_uri": "https://localhost:8080/"
        },
        "id": "soAW_l7R75Xl",
        "outputId": "96ee7147-5837-4d6a-83a5-8c15fcafd6ea"
      },
      "source": [
        "!pip install annoy\n",
        "import annoy"
      ],
      "execution_count": 41,
      "outputs": [
        {
          "output_type": "stream",
          "name": "stdout",
          "text": [
            "Collecting annoy\n",
            "  Downloading annoy-1.17.0.tar.gz (646 kB)\n",
            "\u001b[?25l\r\u001b[K     |▌                               | 10 kB 31.9 MB/s eta 0:00:01\r\u001b[K     |█                               | 20 kB 34.9 MB/s eta 0:00:01\r\u001b[K     |█▌                              | 30 kB 38.0 MB/s eta 0:00:01\r\u001b[K     |██                              | 40 kB 38.4 MB/s eta 0:00:01\r\u001b[K     |██▌                             | 51 kB 39.5 MB/s eta 0:00:01\r\u001b[K     |███                             | 61 kB 41.7 MB/s eta 0:00:01\r\u001b[K     |███▌                            | 71 kB 42.9 MB/s eta 0:00:01\r\u001b[K     |████                            | 81 kB 41.9 MB/s eta 0:00:01\r\u001b[K     |████▋                           | 92 kB 42.3 MB/s eta 0:00:01\r\u001b[K     |█████                           | 102 kB 41.9 MB/s eta 0:00:01\r\u001b[K     |█████▋                          | 112 kB 41.9 MB/s eta 0:00:01\r\u001b[K     |██████                          | 122 kB 41.9 MB/s eta 0:00:01\r\u001b[K     |██████▋                         | 133 kB 41.9 MB/s eta 0:00:01\r\u001b[K     |███████                         | 143 kB 41.9 MB/s eta 0:00:01\r\u001b[K     |███████▋                        | 153 kB 41.9 MB/s eta 0:00:01\r\u001b[K     |████████▏                       | 163 kB 41.9 MB/s eta 0:00:01\r\u001b[K     |████████▋                       | 174 kB 41.9 MB/s eta 0:00:01\r\u001b[K     |█████████▏                      | 184 kB 41.9 MB/s eta 0:00:01\r\u001b[K     |█████████▋                      | 194 kB 41.9 MB/s eta 0:00:01\r\u001b[K     |██████████▏                     | 204 kB 41.9 MB/s eta 0:00:01\r\u001b[K     |██████████▋                     | 215 kB 41.9 MB/s eta 0:00:01\r\u001b[K     |███████████▏                    | 225 kB 41.9 MB/s eta 0:00:01\r\u001b[K     |███████████▋                    | 235 kB 41.9 MB/s eta 0:00:01\r\u001b[K     |████████████▏                   | 245 kB 41.9 MB/s eta 0:00:01\r\u001b[K     |████████████▊                   | 256 kB 41.9 MB/s eta 0:00:01\r\u001b[K     |█████████████▏                  | 266 kB 41.9 MB/s eta 0:00:01\r\u001b[K     |█████████████▊                  | 276 kB 41.9 MB/s eta 0:00:01\r\u001b[K     |██████████████▏                 | 286 kB 41.9 MB/s eta 0:00:01\r\u001b[K     |██████████████▊                 | 296 kB 41.9 MB/s eta 0:00:01\r\u001b[K     |███████████████▏                | 307 kB 41.9 MB/s eta 0:00:01\r\u001b[K     |███████████████▊                | 317 kB 41.9 MB/s eta 0:00:01\r\u001b[K     |████████████████▎               | 327 kB 41.9 MB/s eta 0:00:01\r\u001b[K     |████████████████▊               | 337 kB 41.9 MB/s eta 0:00:01\r\u001b[K     |█████████████████▎              | 348 kB 41.9 MB/s eta 0:00:01\r\u001b[K     |█████████████████▊              | 358 kB 41.9 MB/s eta 0:00:01\r\u001b[K     |██████████████████▎             | 368 kB 41.9 MB/s eta 0:00:01\r\u001b[K     |██████████████████▊             | 378 kB 41.9 MB/s eta 0:00:01\r\u001b[K     |███████████████████▎            | 389 kB 41.9 MB/s eta 0:00:01\r\u001b[K     |███████████████████▊            | 399 kB 41.9 MB/s eta 0:00:01\r\u001b[K     |████████████████████▎           | 409 kB 41.9 MB/s eta 0:00:01\r\u001b[K     |████████████████████▉           | 419 kB 41.9 MB/s eta 0:00:01\r\u001b[K     |█████████████████████▎          | 430 kB 41.9 MB/s eta 0:00:01\r\u001b[K     |█████████████████████▉          | 440 kB 41.9 MB/s eta 0:00:01\r\u001b[K     |██████████████████████▎         | 450 kB 41.9 MB/s eta 0:00:01\r\u001b[K     |██████████████████████▉         | 460 kB 41.9 MB/s eta 0:00:01\r\u001b[K     |███████████████████████▎        | 471 kB 41.9 MB/s eta 0:00:01\r\u001b[K     |███████████████████████▉        | 481 kB 41.9 MB/s eta 0:00:01\r\u001b[K     |████████████████████████▍       | 491 kB 41.9 MB/s eta 0:00:01\r\u001b[K     |████████████████████████▉       | 501 kB 41.9 MB/s eta 0:00:01\r\u001b[K     |█████████████████████████▍      | 512 kB 41.9 MB/s eta 0:00:01\r\u001b[K     |█████████████████████████▉      | 522 kB 41.9 MB/s eta 0:00:01\r\u001b[K     |██████████████████████████▍     | 532 kB 41.9 MB/s eta 0:00:01\r\u001b[K     |██████████████████████████▉     | 542 kB 41.9 MB/s eta 0:00:01\r\u001b[K     |███████████████████████████▍    | 552 kB 41.9 MB/s eta 0:00:01\r\u001b[K     |███████████████████████████▉    | 563 kB 41.9 MB/s eta 0:00:01\r\u001b[K     |████████████████████████████▍   | 573 kB 41.9 MB/s eta 0:00:01\r\u001b[K     |█████████████████████████████   | 583 kB 41.9 MB/s eta 0:00:01\r\u001b[K     |█████████████████████████████▍  | 593 kB 41.9 MB/s eta 0:00:01\r\u001b[K     |██████████████████████████████  | 604 kB 41.9 MB/s eta 0:00:01\r\u001b[K     |██████████████████████████████▍ | 614 kB 41.9 MB/s eta 0:00:01\r\u001b[K     |███████████████████████████████ | 624 kB 41.9 MB/s eta 0:00:01\r\u001b[K     |███████████████████████████████▍| 634 kB 41.9 MB/s eta 0:00:01\r\u001b[K     |████████████████████████████████| 645 kB 41.9 MB/s eta 0:00:01\r\u001b[K     |████████████████████████████████| 646 kB 41.9 MB/s \n",
            "\u001b[?25hBuilding wheels for collected packages: annoy\n",
            "  Building wheel for annoy (setup.py) ... \u001b[?25l\u001b[?25hdone\n",
            "  Created wheel for annoy: filename=annoy-1.17.0-cp37-cp37m-linux_x86_64.whl size=391683 sha256=661e5f39568d5ccf95e15ca3de4a60f675c46ab0a0be9d3e428b5fe9af5aec64\n",
            "  Stored in directory: /root/.cache/pip/wheels/4f/e8/1e/7cc9ebbfa87a3b9f8ba79408d4d31831d67eea918b679a4c07\n",
            "Successfully built annoy\n",
            "Installing collected packages: annoy\n",
            "Successfully installed annoy-1.17.0\n"
          ]
        }
      ]
    },
    {
      "cell_type": "code",
      "metadata": {
        "colab": {
          "base_uri": "https://localhost:8080/"
        },
        "id": "SqFZRDhu7-41",
        "outputId": "5487be17-007b-41e6-a0b3-7c25e8cb3a63"
      },
      "source": [
        "movie_vector, movie_name = data['vector'][90], data['name'][90]\n",
        "similar_movie_questions = '\\n* '.join(index.query(movie_vector))\n",
        "print(f\"The most similar movie to {movie_name} are:\\n* {simlar_movie_questions}\")"
      ],
      "execution_count": 43,
      "outputs": [
        {
          "output_type": "stream",
          "name": "stdout",
          "text": [
            "The most similar movie to Nightmare Before Christmas, The (1993) are:\n",
            "* Nightmare Before Christmas, The (1993)\n",
            "* Mr. Smith Goes to Washington (1939)\n",
            "* Gone with the Wind (1939)\n",
            "* Lion King, The (1994)\n",
            "* Homeward Bound: The Incredible Journey (1993)\n",
            "* Bedknobs and Broomsticks (1971)\n",
            "* Wrong Trousers, The (1993)\n",
            "* Pinocchio (1940)\n",
            "* Aristocats, The (1970)\n",
            "* Snow White and the Seven Dwarfs (1937)\n"
          ]
        }
      ]
    },
    {
      "cell_type": "code",
      "metadata": {
        "colab": {
          "base_uri": "https://localhost:8080/"
        },
        "id": "H8kFqDzr8bXI",
        "outputId": "87451ab6-4d5f-4818-8b4f-78e44f72d2c2"
      },
      "source": [
        "!pip install nmslib\n",
        "import nmslib"
      ],
      "execution_count": 44,
      "outputs": [
        {
          "output_type": "stream",
          "name": "stdout",
          "text": [
            "Collecting nmslib\n",
            "  Downloading nmslib-2.1.1-cp37-cp37m-manylinux2010_x86_64.whl (13.5 MB)\n",
            "\u001b[K     |████████████████████████████████| 13.5 MB 37.0 MB/s \n",
            "\u001b[?25hCollecting pybind11<2.6.2\n",
            "  Downloading pybind11-2.6.1-py2.py3-none-any.whl (188 kB)\n",
            "\u001b[K     |████████████████████████████████| 188 kB 77.5 MB/s \n",
            "\u001b[?25hRequirement already satisfied: psutil in /usr/local/lib/python3.7/dist-packages (from nmslib) (5.4.8)\n",
            "Requirement already satisfied: numpy>=1.10.0 in /usr/local/lib/python3.7/dist-packages (from nmslib) (1.19.5)\n",
            "Installing collected packages: pybind11, nmslib\n",
            "Successfully installed nmslib-2.1.1 pybind11-2.6.1\n"
          ]
        }
      ]
    },
    {
      "cell_type": "markdown",
      "metadata": {
        "id": "Jzve5t-D8lTz"
      },
      "source": [
        "**HNSW: Hierarchical Navigable Small World Algorithm**"
      ]
    },
    {
      "cell_type": "code",
      "metadata": {
        "id": "1mw19eD28jdy"
      },
      "source": [
        "class HNSWIndex():\n",
        "    def __init__(self, vectors, labels):\n",
        "        self.dimention = vectors.shape[1]\n",
        "        self.vectors = vectors.astype('float32')\n",
        "        self.labels = labels\n",
        "    def build(self):\n",
        "        self.index = nmslib.init(method='hnsw', space='cosinesimil')\n",
        "        self.index.addDataPointBatch(self.vectors)\n",
        "        self.index.createIndex({'post': 2})\n",
        "        \n",
        "    def query(self, vector, k=10):\n",
        "        indices = self.index.knnQuery(vector, k=k)\n",
        "        return [self.labels[i] for i in indices[0]]"
      ],
      "execution_count": 45,
      "outputs": []
    },
    {
      "cell_type": "code",
      "metadata": {
        "id": "9ONG-kIN8tWg"
      },
      "source": [
        "index = HNSWIndex(data[\"vector\"], data[\"name\"])\n",
        "index.build()"
      ],
      "execution_count": 46,
      "outputs": []
    },
    {
      "cell_type": "code",
      "metadata": {
        "colab": {
          "base_uri": "https://localhost:8080/"
        },
        "id": "Pd8dnCjt8ved",
        "outputId": "c239f1da-f637-401d-9eae-38dbfc355f78"
      },
      "source": [
        "movie_vector, movie_name = data['vector'][90], data['name'][90]\n",
        "simlar_movie_questions = '\\n* '.join(index.query(movie_vector))\n",
        "print(f\"The most similar stack to {movie_name} are:\\n* {simlar_movie_questions}\")"
      ],
      "execution_count": 47,
      "outputs": [
        {
          "output_type": "stream",
          "name": "stdout",
          "text": [
            "The most similar stack to Nightmare Before Christmas, The (1993) are:\n",
            "* Nightmare Before Christmas, The (1993)\n",
            "* Sword in the Stone, The (1963)\n",
            "* Jurassic Park (1993)\n",
            "* Alice in Wonderland (1951)\n",
            "* Cinderella (1950)\n",
            "* Snow White and the Seven Dwarfs (1937)\n",
            "* Aladdin (1992)\n",
            "* Fantasia (1940)\n",
            "* Star Trek: The Wrath of Khan (1982)\n",
            "* True Lies (1994)\n"
          ]
        }
      ]
    },
    {
      "cell_type": "markdown",
      "metadata": {
        "id": "x3DEaazv9f_B"
      },
      "source": [
        "**Product** **Quantization**"
      ]
    },
    {
      "cell_type": "code",
      "metadata": {
        "id": "mSVOFG9H866l"
      },
      "source": [
        "class ProductIndex():\n",
        "    def __init__(self, vectors, labels):\n",
        "        self.dimension = vectors.shape[1]\n",
        "        self.vectors = vectors.astype('float32')\n",
        "        self.labels = labels    \n",
        "    def build(self, number_of_partition=8, search_in_x_partitions=2, subvector_size=8):\n",
        "        quantizer = faiss.IndexFlatL2(self.dimension)\n",
        "        self.index = faiss.IndexIVFPQ(quantizer, \n",
        "                                      self.dimension, \n",
        "                                      number_of_partition, \n",
        "                                      search_in_x_partitions, \n",
        "                                      subvector_size)\n",
        "        self.index.train(self.vectors)\n",
        "        self.index.add(self.vectors)\n",
        "        \n",
        "    def query(self, vectors, k=10):\n",
        "        distances, indices = self.index.search(vectors, k) \n",
        "        # I expect only query on one vector thus the slice\n",
        "        return [self.labels[i] for i in indices[0]]"
      ],
      "execution_count": 48,
      "outputs": []
    },
    {
      "cell_type": "code",
      "metadata": {
        "id": "UlNXI1kM90yO"
      },
      "source": [
        "index = ProductIndex(data[\"vector\"], data[\"name\"])\n",
        "index.build()"
      ],
      "execution_count": 49,
      "outputs": []
    },
    {
      "cell_type": "code",
      "metadata": {
        "colab": {
          "base_uri": "https://localhost:8080/"
        },
        "id": "I6YbBdTm94DO",
        "outputId": "bb73f162-9cc0-4f5c-c692-157047b6e886"
      },
      "source": [
        "movie_index = 90\n",
        "movie_vector = data['vector'][movie_index:movie_index+1]\n",
        "print(f\"The most simillar movie to {data['name'][movie_index]} are:\")\n",
        "index.query(movie_vector)"
      ],
      "execution_count": 51,
      "outputs": [
        {
          "output_type": "stream",
          "name": "stdout",
          "text": [
            "The most simillar movie to Nightmare Before Christmas, The (1993) are:\n"
          ]
        },
        {
          "output_type": "execute_result",
          "data": {
            "text/plain": [
              "['Nightmare Before Christmas, The (1993)',\n",
              " 'Sword in the Stone, The (1963)',\n",
              " 'Alice in Wonderland (1951)',\n",
              " 'Cape Fear (1991)',\n",
              " 'Three Musketeers, The (1993)',\n",
              " 'Maverick (1994)',\n",
              " 'Up in Smoke (1978)',\n",
              " 'Heavy Metal (1981)',\n",
              " 'Casper (1995)',\n",
              " 'Mask, The (1994)']"
            ]
          },
          "metadata": {},
          "execution_count": 51
        }
      ]
    },
    {
      "cell_type": "markdown",
      "metadata": {
        "id": "golvOwJ3-Lac"
      },
      "source": [
        "**Exhaustive** **Search**"
      ]
    },
    {
      "cell_type": "code",
      "metadata": {
        "id": "s_yunGLV-DaP"
      },
      "source": [
        "class ExhaustiveIndex():\n",
        "    def __init__(self, vectors, labels):\n",
        "        self.dimension = vectors.shape[1]\n",
        "        self.vectors = vectors.astype('float32')\n",
        "        self.labels = labels    \n",
        "   \n",
        "    def build(self):\n",
        "        self.index = faiss.IndexFlatL2(self.dimension,)\n",
        "        self.index.add(self.vectors)\n",
        "        \n",
        "    def query(self, vectors, k=10):\n",
        "        distances, indices = self.index.search(vectors, k) \n",
        "        return [self.labels[i] for i in indices[0]]"
      ],
      "execution_count": 52,
      "outputs": []
    },
    {
      "cell_type": "code",
      "metadata": {
        "id": "JyME-heu-Svx"
      },
      "source": [
        "index = ExhaustiveIndex(data[\"vector\"], data[\"name\"])\n",
        "index.build()"
      ],
      "execution_count": 53,
      "outputs": []
    },
    {
      "cell_type": "code",
      "metadata": {
        "colab": {
          "base_uri": "https://localhost:8080/"
        },
        "id": "Vi_QDrmQ-Vp5",
        "outputId": "3f3c2eef-12e4-4c3f-8782-776e558c1e4c"
      },
      "source": [
        "movie_vector, movie_name = data['vector'][90:91], data['name'][90]\n",
        "simlar_movie_questions = '\\n* '.join(index.query(movie_vector))\n",
        "print(f\"The most similar movie to {movie_name} are:\\n* {simlar_movie_questions}\")"
      ],
      "execution_count": 54,
      "outputs": [
        {
          "output_type": "stream",
          "name": "stdout",
          "text": [
            "The most similar movie to Nightmare Before Christmas, The (1993) are:\n",
            "* Nightmare Before Christmas, The (1993)\n",
            "* Sword in the Stone, The (1963)\n",
            "* Alice in Wonderland (1951)\n",
            "* Cinderella (1950)\n",
            "* Snow White and the Seven Dwarfs (1937)\n",
            "* Fantasia (1940)\n",
            "* Cape Fear (1991)\n",
            "* Heathers (1989)\n",
            "* Aladdin (1992)\n",
            "* Up in Smoke (1978)\n"
          ]
        }
      ]
    },
    {
      "cell_type": "code",
      "metadata": {
        "id": "VjPf0gno-hTE"
      },
      "source": [
        ""
      ],
      "execution_count": null,
      "outputs": []
    }
  ]
}