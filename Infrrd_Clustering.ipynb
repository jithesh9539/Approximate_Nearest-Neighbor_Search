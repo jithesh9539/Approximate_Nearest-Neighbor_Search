{
  "nbformat": 4,
  "nbformat_minor": 0,
  "metadata": {
    "colab": {
      "name": "Infrrd_Clustering.ipynb",
      "provenance": [],
      "authorship_tag": "ABX9TyP1RCIawKPcXqsV6ff77W7w",
      "include_colab_link": true
    },
    "kernelspec": {
      "name": "python3",
      "display_name": "Python 3"
    },
    "language_info": {
      "name": "python"
    }
  },
  "cells": [
    {
      "cell_type": "markdown",
      "metadata": {
        "id": "view-in-github",
        "colab_type": "text"
      },
      "source": [
        "<a href=\"https://colab.research.google.com/github/jithesh9539/Approximate_Nearest-Neighbor_Search/blob/main/Infrrd_Clustering.ipynb\" target=\"_parent\"><img src=\"https://colab.research.google.com/assets/colab-badge.svg\" alt=\"Open In Colab\"/></a>"
      ]
    },
    {
      "cell_type": "code",
      "execution_count": null,
      "metadata": {
        "id": "0TRqTzvbplgw"
      },
      "outputs": [],
      "source": [
        ""
      ]
    }
  ]
}